{
 "cells": [
  {
   "cell_type": "code",
   "execution_count": 683,
   "metadata": {},
   "outputs": [],
   "source": [
    "import numpy as np\n",
    "import matplotlib\n",
    "matplotlib.use('agg')\n",
    "import matplotlib.pyplot as plt\n",
    "import os"
   ]
  },
  {
   "cell_type": "code",
   "execution_count": 684,
   "metadata": {},
   "outputs": [],
   "source": [
    "from keras.datasets import mnist\n",
    "from keras.models import Sequential, load_model\n",
    "from keras.layers.core import Dense, Dropout, Activation\n",
    "from keras.utils import np_utils"
   ]
  },
  {
   "cell_type": "code",
   "execution_count": 685,
   "metadata": {},
   "outputs": [],
   "source": [
    "# Preprocessing\n",
    "(X_train, y_train), (X_test, y_test) = mnist.load_data()"
   ]
  },
  {
   "cell_type": "code",
   "execution_count": 686,
   "metadata": {},
   "outputs": [],
   "source": [
    "X_train = X_train.reshape(60000, 784)\n",
    "X_test = X_test.reshape(10000, 784)\n",
    "X_train = X_train.astype('float32')\n",
    "X_test = X_test.astype('float32')\n",
    "\n",
    "X_train /= 255\n",
    "X_test /= 255"
   ]
  },
  {
   "cell_type": "code",
   "execution_count": 687,
   "metadata": {},
   "outputs": [
    {
     "name": "stdout",
     "output_type": "stream",
     "text": [
      "Shape before one-hot encoding:  (60000,)\n",
      "Shape after one-hot encoding:  (60000, 10)\n"
     ]
    }
   ],
   "source": [
    "n_classes = 10\n",
    "print(\"Shape before one-hot encoding: \", y_train.shape)\n",
    "Y_train = np_utils.to_categorical(y_train, n_classes)\n",
    "Y_test = np_utils.to_categorical(y_test, n_classes)\n",
    "print(\"Shape after one-hot encoding: \", Y_train.shape)"
   ]
  },
  {
   "cell_type": "code",
   "execution_count": 688,
   "metadata": {},
   "outputs": [],
   "source": [
    "# The Model\n",
    "model = Sequential()\n",
    "model.add(Dense(512, input_shape=(784,)))\n",
    "model.add(Activation('relu'))                            \n",
    "model.add(Dropout(0.2))\n",
    "\n",
    "model.add(Dense(512))\n",
    "model.add(Activation('relu'))\n",
    "model.add(Dropout(0.2))\n",
    "\n",
    "model.add(Dense(10))\n",
    "model.add(Activation('softmax'))"
   ]
  },
  {
   "cell_type": "code",
   "execution_count": 689,
   "metadata": {},
   "outputs": [],
   "source": [
    "model.compile(loss='categorical_crossentropy', metrics=['accuracy'], optimizer='adam')"
   ]
  },
  {
   "cell_type": "code",
   "execution_count": 1181,
   "metadata": {
    "scrolled": true
   },
   "outputs": [
    {
     "name": "stdout",
     "output_type": "stream",
     "text": [
      "Epoch 1/100\n",
      "469/469 - 7s - loss: 0.0076 - accuracy: 0.9994 - val_loss: 0.5314 - val_accuracy: 0.9874\n",
      "Epoch 2/100\n",
      "469/469 - 6s - loss: 0.0092 - accuracy: 0.9992 - val_loss: 0.5528 - val_accuracy: 0.9863\n",
      "Epoch 3/100\n",
      "469/469 - 6s - loss: 0.0054 - accuracy: 0.9994 - val_loss: 0.5857 - val_accuracy: 0.9870\n",
      "Epoch 4/100\n",
      "469/469 - 6s - loss: 0.0055 - accuracy: 0.9994 - val_loss: 0.5202 - val_accuracy: 0.9872\n",
      "Epoch 5/100\n",
      "469/469 - 5s - loss: 0.0073 - accuracy: 0.9994 - val_loss: 0.5063 - val_accuracy: 0.9868\n",
      "Epoch 6/100\n",
      "469/469 - 5s - loss: 0.0092 - accuracy: 0.9993 - val_loss: 0.4944 - val_accuracy: 0.9866\n",
      "Epoch 7/100\n",
      "469/469 - 5s - loss: 0.0068 - accuracy: 0.9993 - val_loss: 0.4944 - val_accuracy: 0.9862\n",
      "Epoch 8/100\n",
      "469/469 - 5s - loss: 0.0108 - accuracy: 0.9994 - val_loss: 0.5150 - val_accuracy: 0.9867\n",
      "Epoch 9/100\n",
      "469/469 - 5s - loss: 0.0103 - accuracy: 0.9993 - val_loss: 0.5204 - val_accuracy: 0.9870\n",
      "Epoch 10/100\n",
      "469/469 - 5s - loss: 0.0075 - accuracy: 0.9994 - val_loss: 0.5318 - val_accuracy: 0.9863\n",
      "Epoch 11/100\n",
      "469/469 - 5s - loss: 0.0102 - accuracy: 0.9994 - val_loss: 0.5684 - val_accuracy: 0.9868\n",
      "Epoch 12/100\n",
      "469/469 - 5s - loss: 0.0073 - accuracy: 0.9993 - val_loss: 0.5208 - val_accuracy: 0.9872\n",
      "Epoch 13/100\n",
      "469/469 - 5s - loss: 0.0047 - accuracy: 0.9995 - val_loss: 0.5633 - val_accuracy: 0.9868\n",
      "Epoch 14/100\n",
      "469/469 - 5s - loss: 0.0101 - accuracy: 0.9993 - val_loss: 0.5508 - val_accuracy: 0.9871\n",
      "Epoch 15/100\n",
      "469/469 - 5s - loss: 0.0077 - accuracy: 0.9992 - val_loss: 0.6068 - val_accuracy: 0.9862\n",
      "Epoch 16/100\n",
      "469/469 - 5s - loss: 0.0078 - accuracy: 0.9994 - val_loss: 0.5979 - val_accuracy: 0.9854\n",
      "Epoch 17/100\n",
      "469/469 - 5s - loss: 0.0075 - accuracy: 0.9993 - val_loss: 0.5563 - val_accuracy: 0.9857\n",
      "Epoch 18/100\n",
      "469/469 - 5s - loss: 0.0058 - accuracy: 0.9995 - val_loss: 0.5727 - val_accuracy: 0.9869\n",
      "Epoch 19/100\n",
      "469/469 - 5s - loss: 0.0056 - accuracy: 0.9995 - val_loss: 0.6096 - val_accuracy: 0.9855\n",
      "Epoch 20/100\n",
      "469/469 - 5s - loss: 0.0085 - accuracy: 0.9994 - val_loss: 0.5856 - val_accuracy: 0.9863\n",
      "Epoch 21/100\n",
      "469/469 - 5s - loss: 0.0059 - accuracy: 0.9995 - val_loss: 0.5442 - val_accuracy: 0.9863\n",
      "Epoch 22/100\n",
      "469/469 - 5s - loss: 0.0063 - accuracy: 0.9995 - val_loss: 0.5485 - val_accuracy: 0.9879\n",
      "Epoch 23/100\n",
      "469/469 - 6s - loss: 0.0113 - accuracy: 0.9992 - val_loss: 0.5745 - val_accuracy: 0.9865\n",
      "Epoch 24/100\n",
      "469/469 - 5s - loss: 0.0039 - accuracy: 0.9995 - val_loss: 0.6382 - val_accuracy: 0.9860\n",
      "Epoch 25/100\n",
      "469/469 - 5s - loss: 0.0069 - accuracy: 0.9995 - val_loss: 0.6030 - val_accuracy: 0.9859\n",
      "Epoch 26/100\n",
      "469/469 - 5s - loss: 0.0107 - accuracy: 0.9993 - val_loss: 0.5372 - val_accuracy: 0.9865\n",
      "Epoch 27/100\n",
      "469/469 - 5s - loss: 0.0054 - accuracy: 0.9994 - val_loss: 0.5011 - val_accuracy: 0.9870\n",
      "Epoch 28/100\n",
      "469/469 - 5s - loss: 0.0054 - accuracy: 0.9994 - val_loss: 0.5191 - val_accuracy: 0.9868\n",
      "Epoch 29/100\n",
      "469/469 - 6s - loss: 0.0111 - accuracy: 0.9994 - val_loss: 0.5040 - val_accuracy: 0.9872\n",
      "Epoch 30/100\n",
      "469/469 - 6s - loss: 0.0076 - accuracy: 0.9994 - val_loss: 0.5152 - val_accuracy: 0.9866\n",
      "Epoch 31/100\n",
      "469/469 - 7s - loss: 0.0073 - accuracy: 0.9994 - val_loss: 0.4926 - val_accuracy: 0.9876\n",
      "Epoch 32/100\n",
      "469/469 - 5s - loss: 0.0073 - accuracy: 0.9994 - val_loss: 0.4509 - val_accuracy: 0.9861\n",
      "Epoch 33/100\n",
      "469/469 - 5s - loss: 0.0067 - accuracy: 0.9993 - val_loss: 0.4954 - val_accuracy: 0.9861\n",
      "Epoch 34/100\n",
      "469/469 - 5s - loss: 0.0059 - accuracy: 0.9993 - val_loss: 0.5235 - val_accuracy: 0.9854\n",
      "Epoch 35/100\n",
      "469/469 - 5s - loss: 0.0058 - accuracy: 0.9994 - val_loss: 0.5235 - val_accuracy: 0.9865\n",
      "Epoch 36/100\n",
      "469/469 - 5s - loss: 0.0082 - accuracy: 0.9994 - val_loss: 0.5826 - val_accuracy: 0.9851\n",
      "Epoch 37/100\n",
      "469/469 - 5s - loss: 0.0077 - accuracy: 0.9991 - val_loss: 0.5349 - val_accuracy: 0.9873\n",
      "Epoch 38/100\n",
      "469/469 - 6s - loss: 0.0072 - accuracy: 0.9996 - val_loss: 0.5501 - val_accuracy: 0.9869\n",
      "Epoch 39/100\n",
      "469/469 - 5s - loss: 0.0053 - accuracy: 0.9996 - val_loss: 0.5342 - val_accuracy: 0.9862\n",
      "Epoch 40/100\n",
      "469/469 - 5s - loss: 0.0087 - accuracy: 0.9994 - val_loss: 0.4949 - val_accuracy: 0.9873\n",
      "Epoch 41/100\n",
      "469/469 - 5s - loss: 0.0074 - accuracy: 0.9994 - val_loss: 0.5391 - val_accuracy: 0.9866\n",
      "Epoch 42/100\n",
      "469/469 - 5s - loss: 0.0075 - accuracy: 0.9992 - val_loss: 0.5322 - val_accuracy: 0.9868\n",
      "Epoch 43/100\n",
      "469/469 - 5s - loss: 0.0082 - accuracy: 0.9995 - val_loss: 0.5745 - val_accuracy: 0.9863\n",
      "Epoch 44/100\n",
      "469/469 - 5s - loss: 0.0039 - accuracy: 0.9997 - val_loss: 0.5928 - val_accuracy: 0.9862\n",
      "Epoch 45/100\n",
      "469/469 - 6s - loss: 0.0060 - accuracy: 0.9995 - val_loss: 0.5521 - val_accuracy: 0.9868\n",
      "Epoch 46/100\n",
      "469/469 - 5s - loss: 0.0063 - accuracy: 0.9994 - val_loss: 0.5676 - val_accuracy: 0.9859\n",
      "Epoch 47/100\n",
      "469/469 - 5s - loss: 0.0068 - accuracy: 0.9994 - val_loss: 0.5918 - val_accuracy: 0.9870\n",
      "Epoch 48/100\n",
      "469/469 - 5s - loss: 0.0130 - accuracy: 0.9992 - val_loss: 0.6024 - val_accuracy: 0.9865\n",
      "Epoch 49/100\n",
      "469/469 - 5s - loss: 0.0094 - accuracy: 0.9994 - val_loss: 0.6070 - val_accuracy: 0.9858\n",
      "Epoch 50/100\n",
      "469/469 - 5s - loss: 0.0041 - accuracy: 0.9995 - val_loss: 0.6389 - val_accuracy: 0.9863\n",
      "Epoch 51/100\n",
      "469/469 - 5s - loss: 0.0084 - accuracy: 0.9993 - val_loss: 0.6307 - val_accuracy: 0.9857\n",
      "Epoch 52/100\n",
      "469/469 - 5s - loss: 0.0065 - accuracy: 0.9994 - val_loss: 0.5795 - val_accuracy: 0.9867\n",
      "Epoch 53/100\n",
      "469/469 - 5s - loss: 0.0099 - accuracy: 0.9993 - val_loss: 0.5186 - val_accuracy: 0.9873\n",
      "Epoch 54/100\n",
      "469/469 - 5s - loss: 0.0057 - accuracy: 0.9995 - val_loss: 0.5298 - val_accuracy: 0.9868\n",
      "Epoch 55/100\n",
      "469/469 - 5s - loss: 0.0054 - accuracy: 0.9994 - val_loss: 0.5442 - val_accuracy: 0.9867\n",
      "Epoch 56/100\n",
      "469/469 - 5s - loss: 0.0035 - accuracy: 0.9997 - val_loss: 0.5599 - val_accuracy: 0.9858\n",
      "Epoch 57/100\n",
      "469/469 - 6s - loss: 0.0077 - accuracy: 0.9994 - val_loss: 0.4660 - val_accuracy: 0.9881\n",
      "Epoch 58/100\n",
      "469/469 - 6s - loss: 0.0101 - accuracy: 0.9993 - val_loss: 0.5410 - val_accuracy: 0.9861\n",
      "Epoch 59/100\n",
      "469/469 - 5s - loss: 0.0070 - accuracy: 0.9994 - val_loss: 0.5018 - val_accuracy: 0.9865\n",
      "Epoch 60/100\n",
      "469/469 - 5s - loss: 0.0057 - accuracy: 0.9994 - val_loss: 0.5091 - val_accuracy: 0.9867\n",
      "Epoch 61/100\n",
      "469/469 - 5s - loss: 0.0077 - accuracy: 0.9993 - val_loss: 0.5669 - val_accuracy: 0.9870\n",
      "Epoch 62/100\n",
      "469/469 - 5s - loss: 0.0077 - accuracy: 0.9994 - val_loss: 0.5561 - val_accuracy: 0.9874\n",
      "Epoch 63/100\n",
      "469/469 - 5s - loss: 0.0040 - accuracy: 0.9996 - val_loss: 0.5709 - val_accuracy: 0.9872\n",
      "Epoch 64/100\n",
      "469/469 - 5s - loss: 0.0057 - accuracy: 0.9995 - val_loss: 0.5787 - val_accuracy: 0.9864\n",
      "Epoch 65/100\n",
      "469/469 - 5s - loss: 0.0114 - accuracy: 0.9993 - val_loss: 0.5370 - val_accuracy: 0.9874\n",
      "Epoch 66/100\n",
      "469/469 - 5s - loss: 0.0050 - accuracy: 0.9995 - val_loss: 0.6279 - val_accuracy: 0.9862\n",
      "Epoch 67/100\n",
      "469/469 - 6s - loss: 0.0073 - accuracy: 0.9994 - val_loss: 0.6769 - val_accuracy: 0.9862\n",
      "Epoch 68/100\n",
      "469/469 - 5s - loss: 0.0072 - accuracy: 0.9995 - val_loss: 0.6260 - val_accuracy: 0.9867\n",
      "Epoch 69/100\n",
      "469/469 - 5s - loss: 0.0109 - accuracy: 0.9993 - val_loss: 0.6150 - val_accuracy: 0.9859\n",
      "Epoch 70/100\n",
      "469/469 - 5s - loss: 0.0081 - accuracy: 0.9994 - val_loss: 0.6464 - val_accuracy: 0.9856\n",
      "Epoch 71/100\n",
      "469/469 - 5s - loss: 0.0068 - accuracy: 0.9995 - val_loss: 0.6012 - val_accuracy: 0.9857\n",
      "Epoch 72/100\n",
      "469/469 - 5s - loss: 0.0055 - accuracy: 0.9995 - val_loss: 0.5922 - val_accuracy: 0.9870\n",
      "Epoch 73/100\n",
      "469/469 - 5s - loss: 0.0084 - accuracy: 0.9995 - val_loss: 0.5848 - val_accuracy: 0.9860\n",
      "Epoch 74/100\n",
      "469/469 - 5s - loss: 0.0083 - accuracy: 0.9995 - val_loss: 0.6026 - val_accuracy: 0.9868\n",
      "Epoch 75/100\n",
      "469/469 - 5s - loss: 0.0068 - accuracy: 0.9994 - val_loss: 0.5815 - val_accuracy: 0.9866\n",
      "Epoch 76/100\n",
      "469/469 - 5s - loss: 0.0059 - accuracy: 0.9995 - val_loss: 0.6512 - val_accuracy: 0.9861\n",
      "Epoch 77/100\n",
      "469/469 - 5s - loss: 0.0094 - accuracy: 0.9993 - val_loss: 0.5960 - val_accuracy: 0.9881\n",
      "Epoch 78/100\n",
      "469/469 - 5s - loss: 0.0064 - accuracy: 0.9995 - val_loss: 0.6199 - val_accuracy: 0.9876\n",
      "Epoch 79/100\n",
      "469/469 - 5s - loss: 0.0051 - accuracy: 0.9996 - val_loss: 0.6170 - val_accuracy: 0.9874\n",
      "Epoch 80/100\n",
      "469/469 - 5s - loss: 0.0078 - accuracy: 0.9994 - val_loss: 0.6330 - val_accuracy: 0.9869\n",
      "Epoch 81/100\n",
      "469/469 - 5s - loss: 0.0077 - accuracy: 0.9994 - val_loss: 0.5903 - val_accuracy: 0.9864\n"
     ]
    },
    {
     "name": "stdout",
     "output_type": "stream",
     "text": [
      "Epoch 82/100\n",
      "469/469 - 5s - loss: 0.0055 - accuracy: 0.9995 - val_loss: 0.5451 - val_accuracy: 0.9870\n",
      "Epoch 83/100\n",
      "469/469 - 6s - loss: 0.0067 - accuracy: 0.9995 - val_loss: 0.5573 - val_accuracy: 0.9874\n",
      "Epoch 84/100\n",
      "469/469 - 6s - loss: 0.0079 - accuracy: 0.9995 - val_loss: 0.6122 - val_accuracy: 0.9866\n",
      "Epoch 85/100\n",
      "469/469 - 5s - loss: 0.0052 - accuracy: 0.9995 - val_loss: 0.6578 - val_accuracy: 0.9856\n",
      "Epoch 86/100\n",
      "469/469 - 5s - loss: 0.0055 - accuracy: 0.9995 - val_loss: 0.6435 - val_accuracy: 0.9858\n",
      "Epoch 87/100\n",
      "469/469 - 5s - loss: 0.0066 - accuracy: 0.9995 - val_loss: 0.6326 - val_accuracy: 0.9856\n",
      "Epoch 88/100\n",
      "469/469 - 5s - loss: 0.0059 - accuracy: 0.9995 - val_loss: 0.6318 - val_accuracy: 0.9869\n",
      "Epoch 89/100\n",
      "469/469 - 6s - loss: 0.0072 - accuracy: 0.9994 - val_loss: 0.5913 - val_accuracy: 0.9859\n",
      "Epoch 90/100\n",
      "469/469 - 6s - loss: 0.0057 - accuracy: 0.9995 - val_loss: 0.6296 - val_accuracy: 0.9870\n",
      "Epoch 91/100\n",
      "469/469 - 6s - loss: 0.0092 - accuracy: 0.9994 - val_loss: 0.5824 - val_accuracy: 0.9874\n",
      "Epoch 92/100\n",
      "469/469 - 7s - loss: 0.0071 - accuracy: 0.9995 - val_loss: 0.6037 - val_accuracy: 0.9861\n",
      "Epoch 93/100\n",
      "469/469 - 6s - loss: 0.0070 - accuracy: 0.9994 - val_loss: 0.6110 - val_accuracy: 0.9869\n",
      "Epoch 94/100\n",
      "469/469 - 6s - loss: 0.0104 - accuracy: 0.9994 - val_loss: 0.5710 - val_accuracy: 0.9872\n",
      "Epoch 95/100\n",
      "469/469 - 6s - loss: 0.0036 - accuracy: 0.9996 - val_loss: 0.5431 - val_accuracy: 0.9871\n",
      "Epoch 96/100\n",
      "469/469 - 6s - loss: 0.0055 - accuracy: 0.9995 - val_loss: 0.5874 - val_accuracy: 0.9868\n",
      "Epoch 97/100\n",
      "469/469 - 5s - loss: 0.0070 - accuracy: 0.9995 - val_loss: 0.5623 - val_accuracy: 0.9869\n",
      "Epoch 98/100\n",
      "469/469 - 6s - loss: 0.0089 - accuracy: 0.9995 - val_loss: 0.5916 - val_accuracy: 0.9871\n",
      "Epoch 99/100\n",
      "469/469 - 5s - loss: 0.0087 - accuracy: 0.9994 - val_loss: 0.5373 - val_accuracy: 0.9870\n",
      "Epoch 100/100\n",
      "469/469 - 6s - loss: 0.0076 - accuracy: 0.9994 - val_loss: 0.5956 - val_accuracy: 0.9869\n"
     ]
    }
   ],
   "source": [
    "# Train the model\n",
    "history = model.fit(X_train, Y_train,\n",
    "          batch_size=128, epochs=100,\n",
    "          verbose=2,\n",
    "          validation_data=(X_test, Y_test))\n",
    "\n",
    "# Save the model\n",
    "save_dir = \"/Models/\"\n",
    "model_name = 'keras_mnist.h5'\n",
    "model_path = os.path.join(save_dir, model_name)\n",
    "model.save(model_path)"
   ]
  },
  {
   "cell_type": "code",
   "execution_count": 1225,
   "metadata": {},
   "outputs": [],
   "source": [
    "#Load the model\n",
    "model = load_model(\"digit.h5\")"
   ]
  },
  {
   "cell_type": "code",
   "execution_count": 1238,
   "metadata": {},
   "outputs": [],
   "source": [
    "# Test cases\n",
    "cv2D1 = cv2.imread('TestImages/Stage3.jpg')\n",
    "cv2D2 = cv2.imread('TestImages/Level1.jpg')\n",
    "\n",
    "M = np.float32([[1, 0, -7], [0, 1, 0]]) \n",
    "(rows, cols) = cv2D1.shape[:2] \n",
    "res = cv2.warpAffine(cv2D1, M, (cols, rows)) \n",
    "\n",
    "cv2.imwrite('ss/stage.jpg', res) \n",
    "\n",
    "M = np.float32([[1, 0, 8], [0, 1, 0]]) \n",
    "(rows, cols) = cv2D2.shape[:2] \n",
    "res = cv2.warpAffine(cv2D2, M, (cols, rows)) \n",
    "\n",
    "cv2.imwrite('ss/level.jpg', res)\n",
    "cv2D1 = cv2.imread('ss/stage.jpg')\n",
    "cv2D2 = cv2.imread('ss/level.jpg')"
   ]
  },
  {
   "cell_type": "code",
   "execution_count": 1239,
   "metadata": {},
   "outputs": [],
   "source": [
    "gray1 = cv2.cvtColor(cv2D1, cv2.COLOR_BGR2GRAY)"
   ]
  },
  {
   "cell_type": "code",
   "execution_count": 1240,
   "metadata": {},
   "outputs": [],
   "source": [
    "gray1 = gray1.flatten()"
   ]
  },
  {
   "cell_type": "code",
   "execution_count": 1241,
   "metadata": {},
   "outputs": [
    {
     "data": {
      "text/plain": [
       "3"
      ]
     },
     "execution_count": 1241,
     "metadata": {},
     "output_type": "execute_result"
    }
   ],
   "source": [
    "pred1 = model.predict(np.array([gray1]))[0]\n",
    "pred1.argmax()"
   ]
  },
  {
   "cell_type": "code",
   "execution_count": 1242,
   "metadata": {},
   "outputs": [],
   "source": [
    "gray2 = cv2.cvtColor(cv2D2, cv2.COLOR_BGR2GRAY)\n",
    "gray2 = gray2.flatten()"
   ]
  },
  {
   "cell_type": "code",
   "execution_count": 1243,
   "metadata": {},
   "outputs": [
    {
     "data": {
      "text/plain": [
       "3"
      ]
     },
     "execution_count": 1243,
     "metadata": {},
     "output_type": "execute_result"
    }
   ],
   "source": [
    "pred2 = model.predict(np.array([gray2]))[0]\n",
    "pred2.argmax()"
   ]
  },
  {
   "cell_type": "code",
   "execution_count": null,
   "metadata": {},
   "outputs": [],
   "source": []
  },
  {
   "cell_type": "code",
   "execution_count": null,
   "metadata": {},
   "outputs": [],
   "source": []
  },
  {
   "cell_type": "code",
   "execution_count": null,
   "metadata": {},
   "outputs": [],
   "source": []
  },
  {
   "cell_type": "code",
   "execution_count": null,
   "metadata": {},
   "outputs": [],
   "source": []
  },
  {
   "cell_type": "code",
   "execution_count": null,
   "metadata": {},
   "outputs": [],
   "source": []
  },
  {
   "cell_type": "code",
   "execution_count": null,
   "metadata": {},
   "outputs": [],
   "source": []
  }
 ],
 "metadata": {
  "kernelspec": {
   "display_name": "Python 3",
   "language": "python",
   "name": "python3"
  },
  "language_info": {
   "codemirror_mode": {
    "name": "ipython",
    "version": 3
   },
   "file_extension": ".py",
   "mimetype": "text/x-python",
   "name": "python",
   "nbconvert_exporter": "python",
   "pygments_lexer": "ipython3",
   "version": "3.8.3"
  }
 },
 "nbformat": 4,
 "nbformat_minor": 4
}
